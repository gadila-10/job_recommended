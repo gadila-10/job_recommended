{
 "cells": [
  {
   "cell_type": "code",
   "execution_count": null,
   "id": "b10b7547-2018-4481-bbc6-8c4cb98de7cb",
   "metadata": {},
   "outputs": [],
   "source": [
    "import pickle\n",
    "import numpy as np\n",
    "from flask import Flask, render_template, request\n",
    "\n",
    "# Load the trained job recommendation model\n",
    "model_path = \"model.pkl\"\n",
    "\n",
    "try:\n",
    "    with open(model_path, \"rb\") as model_file:\n",
    "        model_data = pickle.load(model_file)\n",
    "    print(\"Model loaded successfully:\", model_data.keys())  # Debugging\n",
    "except Exception as e:\n",
    "    print(\"Error loading model:\", e)\n",
    "    model_data = None  # Prevents app from breaking\n",
    "\n",
    "if model_data:\n",
    "    vectorizer = model_data.get(\"vectorizer\")\n",
    "    similarity_matrix = model_data.get(\"similarity_matrix\")\n",
    "    job_titles = model_data.get(\"job_titles\")\n",
    "else:\n",
    "    vectorizer = similarity_matrix = job_titles = None\n",
    "\n",
    "# Initialize Flask app\n",
    "app = Flask(__name__)\n",
    "\n",
    "@app.route('/')\n",
    "def home():\n",
    "    return render_template('index.html')\n",
    "\n",
    "@app.route('/recommend', methods=['POST'])\n",
    "def recommend():\n",
    "    if not model_data:\n",
    "        return render_template('recommended.html', jobs=[], error=\"Model not loaded properly.\")\n",
    "\n",
    "    user_input = request.form['job'].strip()\n",
    "\n",
    "    if not user_input:\n",
    "        return render_template('recommended.html', jobs=[], error=\"Please enter a valid job title.\")\n",
    "\n",
    "    try:\n",
    "        input_vector = vectorizer.transform([user_input])\n",
    "        similarity_scores = np.dot(input_vector, similarity_matrix.T).toarray()[0]\n",
    "        recommended_indices = similarity_scores.argsort()[::-1][:5]\n",
    "        recommended_jobs = [job_titles[i] for i in recommended_indices]\n",
    "    except Exception as e:\n",
    "        return render_template('recommended.html', jobs=[], error=f\"Error in recommendation: {e}\")\n",
    "\n",
    "    return render_template('recommended.html', jobs=recommended_jobs)\n",
    "\n",
    "if __name__ == '__main__':\n",
    "    app.run(debug=True)\n"
   ]
  }
 ],
 "metadata": {
  "kernelspec": {
   "display_name": "Python 3 (ipykernel)",
   "language": "python",
   "name": "python3"
  },
  "language_info": {
   "codemirror_mode": {
    "name": "ipython",
    "version": 3
   },
   "file_extension": ".py",
   "mimetype": "text/x-python",
   "name": "python",
   "nbconvert_exporter": "python",
   "pygments_lexer": "ipython3",
   "version": "3.12.7"
  }
 },
 "nbformat": 4,
 "nbformat_minor": 5
}
